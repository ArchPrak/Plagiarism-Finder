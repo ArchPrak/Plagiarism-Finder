{
  "nbformat": 4,
  "nbformat_minor": 0,
  "metadata": {
    "colab": {
      "provenance": []
    },
    "kernelspec": {
      "name": "python3",
      "display_name": "Python 3"
    },
    "language_info": {
      "name": "python"
    }
  },
  "cells": [
    {
      "cell_type": "code",
      "source": [
        "!pip install metaphor-python"
      ],
      "metadata": {
        "id": "4yd7bEfvizb1"
      },
      "execution_count": null,
      "outputs": []
    },
    {
      "cell_type": "code",
      "source": [
        "import spacy\n",
        "from bs4 import BeautifulSoup\n",
        "\n",
        "# Load the spaCy English model\n",
        "nlp = spacy.load(\"en_core_web_sm\")\n",
        "\n",
        "# Function to extract text from HTML\n",
        "def extract_text_from_html(html_content):\n",
        "    soup = BeautifulSoup(html_content, \"html.parser\")\n",
        "    text = \"\"\n",
        "    for paragraph in soup.find_all(\"p\"):\n",
        "        text += paragraph.get_text() + \" \"\n",
        "    return text\n",
        "\n",
        "# Function to generate a shorter search query (limit to 20 words)\n",
        "def generate_short_search_query(text, max_words=20):\n",
        "    doc = nlp(text)\n",
        "    keywords = []\n",
        "\n",
        "    # Extract nouns and adjectives as keywords\n",
        "    for token in doc:\n",
        "        if token.pos_ in (\"NOUN\", \"ADJ\"):\n",
        "            keywords.append(token.text)\n",
        "\n",
        "    # Limit the keywords to a maximum of max_words\n",
        "    keywords = keywords[:max_words]\n",
        "\n",
        "    # Join keywords into a search query\n",
        "    query = \" \".join(keywords)\n",
        "    return query\n",
        "\n",
        "def generate_search_query_for_html(html_content):\n",
        "    text = extract_text_from_html(html_content)\n",
        "    search_query = generate_short_search_query(text, max_words=20)\n",
        "    print(\"Generated Short Search Query (up to 20 words):\", search_query)\n",
        "    return search_query\n"
      ],
      "metadata": {
        "id": "EBWgsGiVueZV"
      },
      "execution_count": 1,
      "outputs": []
    },
    {
      "cell_type": "code",
      "source": [
        "def get_similar_urls(source_url):\n",
        "  result = ''\n",
        "  try:\n",
        "    response = metaphor_client.find_similar(source_url, num_results = 10)\n",
        "    matching_results = []\n",
        "    for res in response.results:\n",
        "      # print(res.title, res.url)\n",
        "      result += res.title + \" \" + res.url + '\\n'\n",
        "    # print(result)\n",
        "    return (response, result)\n",
        "  except:\n",
        "    raise Exception(\"There seems to be something wrong with the URL you entered, please check\")\n",
        "\n",
        "def get_html_content(response):\n",
        "  #----------------------------- Finding content of the project -----------------------------\n",
        "  top_match_url = response.results[0].url # using top match for extracting content of the project\n",
        "  top_match_id = response.results[0].id\n",
        "  contents = metaphor_client.get_contents([top_match_id])\n",
        "  return contents\n",
        "\n",
        "\n",
        "def find_similar_content(content):\n",
        "  #-------------------- Generating a search query to retrieve similar content -----------------\n",
        "  search_query = generate_search_query_for_html(content.contents[0].extract)\n",
        "  response = metaphor_client.search(\n",
        "  'Code for ' + search_query,\n",
        "  num_results=10,\n",
        "  use_autoprompt=True,\n",
        "  )\n",
        "  return (response)\n",
        "\n"
      ],
      "metadata": {
        "id": "Fgr_-hRNjOkZ"
      },
      "execution_count": 3,
      "outputs": []
    },
    {
      "cell_type": "code",
      "execution_count": 4,
      "metadata": {
        "id": "lgYIYQ4Sisbj"
      },
      "outputs": [],
      "source": [
        "#----------------------------- Initialising Metaphor Client -----------------------------\n",
        "from metaphor_python import Metaphor\n",
        "ACCESS_KEY = \"b466d1c1-82bb-474e-a6c9-1375ae07ba6c\" # ideally this would be fetched from a file\n",
        "metaphor_client = Metaphor(ACCESS_KEY)"
      ]
    },
    {
      "cell_type": "code",
      "source": [
        "if __name__ == \"__main__\":\n",
        "    report_string = \\\n",
        "    '''\\n_________________________________________________________________\n",
        "      \\nPLAGIRAISM REPORT: SIMILAR INFORMATION FOUND ONLINE\n",
        "      \\n__________________________________________________________________\n",
        "    '''\n",
        "    source_url = input(\"Enter URL of Project\")\n",
        "    output_file = \"plagiarism_report.txt\"\n",
        "    print(\"Thanks! Checking for plagiarism - similar content across the web ...\")\n",
        "    response, result = get_similar_urls(source_url)\n",
        "\n",
        "    report_string += result\n",
        "\n",
        "    contents = get_html_content(response)\n",
        "    # print(response)\n",
        "    response = find_similar_content(contents)\n",
        "\n",
        "    report_string += \"\\nOther similar sources: \\n\"\n",
        "    for res in response.results:\n",
        "      report_string += str(res) + \"\\n\"\n",
        "\n",
        "    print(report_string)\n",
        "    print(\"Done! Find your results in : \", output_file)\n",
        "    with open(output_file, \"w\", encoding=\"utf-8\") as file:\n",
        "       file.write(report_string)\n"
      ],
      "metadata": {
        "id": "mAvL0gXJ7zOY"
      },
      "execution_count": null,
      "outputs": []
    },
    {
      "cell_type": "code",
      "source": [],
      "metadata": {
        "id": "30DKwnMwpD57"
      },
      "execution_count": null,
      "outputs": []
    }
  ]
}
